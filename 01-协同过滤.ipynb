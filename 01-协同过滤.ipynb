{
 "cells": [
  {
   "cell_type": "markdown",
   "metadata": {},
   "source": [
    "# 协同过滤"
   ]
  },
  {
   "cell_type": "markdown",
   "metadata": {},
   "source": [
    "协同过滤(collaborative filtering)是根据其他用户进行推荐。"
   ]
  },
  {
   "cell_type": "markdown",
   "metadata": {},
   "source": [
    "## 1. 如何寻找相似用户\n",
    "\n",
    "推荐的第一步就是找相似用户。加入用户对一些内容进行评分，那么可以根据他们对同样的数据进行打分来判断他们的相似。也就是计算距离。\n",
    "\n",
    "加入有数据：\n",
    "\n",
    "|千与千寻|大鱼海棠\n",
    "--|--|--\n",
    "小明|5|5\n",
    "小强|2|5\n",
    "小亮|1|4"
   ]
  },
  {
   "cell_type": "markdown",
   "metadata": {},
   "source": [
    "### 1.1 曼哈顿距离\n",
    "\n",
    "曼哈顿距离(Manhattan Distance)是最简单的计算方法。在二维情况下，每个用户用$(x, y)$表示，因此$(x_1, y_1)$可能是小明，而$(x_2, y_2)$可能是神秘的`X`女士。于是他们的距离可以采用以下公式来计算：$$|x_1-x_2|+|x_2-y_2|$$\n",
    "即分别计算$x$坐标和$y$坐标的差值的绝对值。\n"
   ]
  }
 ],
 "metadata": {
  "kernelspec": {
   "display_name": "Python 3",
   "language": "python",
   "name": "python3"
  },
  "language_info": {
   "codemirror_mode": {
    "name": "ipython",
    "version": 3
   },
   "file_extension": ".py",
   "mimetype": "text/x-python",
   "name": "python",
   "nbconvert_exporter": "python",
   "pygments_lexer": "ipython3",
   "version": "3.5.2"
  }
 },
 "nbformat": 4,
 "nbformat_minor": 0
}
