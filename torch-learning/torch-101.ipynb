{
 "cells": [
  {
   "cell_type": "code",
   "execution_count": 1,
   "id": "733f3a4d-f9bf-4961-b2a0-cb4f95f090ad",
   "metadata": {},
   "outputs": [],
   "source": [
    "import torch"
   ]
  },
  {
   "cell_type": "code",
   "execution_count": 2,
   "id": "f2dde8a7-bc0e-4f2f-8eab-44f4cf9b5d18",
   "metadata": {},
   "outputs": [
    {
     "data": {
      "text/plain": [
       "False"
      ]
     },
     "execution_count": 2,
     "metadata": {},
     "output_type": "execute_result"
    }
   ],
   "source": [
    "torch.cuda.is_available()"
   ]
  },
  {
   "cell_type": "code",
   "execution_count": 3,
   "id": "6e2d1619-f658-490e-9004-6d4af023a2f5",
   "metadata": {},
   "outputs": [],
   "source": [
    "x = torch.rand(3, 5)"
   ]
  },
  {
   "cell_type": "code",
   "execution_count": 4,
   "id": "0e30d51d-565c-42f6-9f50-51523358307d",
   "metadata": {},
   "outputs": [
    {
     "name": "stdout",
     "output_type": "stream",
     "text": [
      "tensor([[0.4772, 0.0842, 0.0018, 0.3905, 0.1748],\n",
      "        [0.3371, 0.4817, 0.3183, 0.5578, 0.9676],\n",
      "        [0.6912, 0.5099, 0.4231, 0.1721, 0.6817]])\n"
     ]
    }
   ],
   "source": [
    "print(x)"
   ]
  },
  {
   "cell_type": "markdown",
   "id": "4809d961-69f4-4012-8a9f-2b3227699ea5",
   "metadata": {},
   "source": [
    "## Numpy"
   ]
  },
  {
   "cell_type": "code",
   "execution_count": 6,
   "id": "f57d7358-ddb5-4711-a096-e5d3765c583e",
   "metadata": {},
   "outputs": [],
   "source": [
    "import numpy as np"
   ]
  },
  {
   "cell_type": "code",
   "execution_count": 8,
   "id": "9bb784a9-9964-4272-b5a6-7a00d5ea841a",
   "metadata": {},
   "outputs": [
    {
     "name": "stdout",
     "output_type": "stream",
     "text": [
      "[[1 2]\n",
      " [3 4]]\n"
     ]
    }
   ],
   "source": [
    "arr_2_d = np.asarray([[1, 2], [3, 4]])\n",
    "print(arr_2_d)"
   ]
  },
  {
   "cell_type": "code",
   "execution_count": 9,
   "id": "236ad80c-ada9-4a33-af8e-5377c20b245a",
   "metadata": {},
   "outputs": [
    {
     "data": {
      "text/plain": [
       "2"
      ]
     },
     "execution_count": 9,
     "metadata": {},
     "output_type": "execute_result"
    }
   ],
   "source": [
    "arr_2_d.ndim"
   ]
  },
  {
   "cell_type": "code",
   "execution_count": 10,
   "id": "e828c122-1b9a-475f-946f-5cd7b943e86d",
   "metadata": {},
   "outputs": [
    {
     "data": {
      "text/plain": [
       "(2, 2)"
      ]
     },
     "execution_count": 10,
     "metadata": {},
     "output_type": "execute_result"
    }
   ],
   "source": [
    "arr_2_d.shape"
   ]
  },
  {
   "cell_type": "code",
   "execution_count": 11,
   "id": "77e24c4a-83ca-46dc-9984-ada2b119b80e",
   "metadata": {},
   "outputs": [
    {
     "data": {
      "text/plain": [
       "array([[1],\n",
       "       [2],\n",
       "       [3],\n",
       "       [4]])"
      ]
     },
     "execution_count": 11,
     "metadata": {},
     "output_type": "execute_result"
    }
   ],
   "source": [
    "arr_2_d.reshape(4,1)"
   ]
  },
  {
   "cell_type": "code",
   "execution_count": 12,
   "id": "e96cb1ac-74b7-4562-8558-3d0d6c5716d4",
   "metadata": {},
   "outputs": [
    {
     "data": {
      "text/plain": [
       "array([[1, 2],\n",
       "       [3, 4]])"
      ]
     },
     "execution_count": 12,
     "metadata": {},
     "output_type": "execute_result"
    }
   ],
   "source": [
    "arr_2_d"
   ]
  }
 ],
 "metadata": {
  "kernelspec": {
   "display_name": "Python 3 (ipykernel)",
   "language": "python",
   "name": "python3"
  },
  "language_info": {
   "codemirror_mode": {
    "name": "ipython",
    "version": 3
   },
   "file_extension": ".py",
   "mimetype": "text/x-python",
   "name": "python",
   "nbconvert_exporter": "python",
   "pygments_lexer": "ipython3",
   "version": "3.10.4"
  }
 },
 "nbformat": 4,
 "nbformat_minor": 5
}
