{
 "cells": [
  {
   "cell_type": "markdown",
   "id": "5f7e1ed8",
   "metadata": {},
   "source": [
    "This notebook demonstrates basic operations with Milvus DB\n",
    "\n",
    "### Setup requirement prerequisites"
   ]
  },
  {
   "cell_type": "code",
   "execution_count": 1,
   "id": "eacee8b3",
   "metadata": {},
   "outputs": [
    {
     "name": "stdout",
     "output_type": "stream",
     "text": [
      "Requirement already satisfied: pymilvus==2.3.5 in /Users/linkedin/anaconda3/envs/Milvus/lib/python3.11/site-packages (2.3.5)\n",
      "Requirement already satisfied: grpcio<=1.58.0,>=1.49.1 in /Users/linkedin/anaconda3/envs/Milvus/lib/python3.11/site-packages (from pymilvus==2.3.5) (1.58.0)\n",
      "Requirement already satisfied: protobuf>=3.20.0 in /Users/linkedin/anaconda3/envs/Milvus/lib/python3.11/site-packages (from pymilvus==2.3.5) (4.25.1)\n",
      "Requirement already satisfied: environs<=9.5.0 in /Users/linkedin/anaconda3/envs/Milvus/lib/python3.11/site-packages (from pymilvus==2.3.5) (9.5.0)\n",
      "Requirement already satisfied: ujson>=2.0.0 in /Users/linkedin/anaconda3/envs/Milvus/lib/python3.11/site-packages (from pymilvus==2.3.5) (5.9.0)\n",
      "Requirement already satisfied: pandas>=1.2.4 in /Users/linkedin/anaconda3/envs/Milvus/lib/python3.11/site-packages (from pymilvus==2.3.5) (2.1.4)\n",
      "Requirement already satisfied: requests in /Users/linkedin/anaconda3/envs/Milvus/lib/python3.11/site-packages (from pymilvus==2.3.5) (2.31.0)\n",
      "Requirement already satisfied: minio>=7.0.0 in /Users/linkedin/anaconda3/envs/Milvus/lib/python3.11/site-packages (from pymilvus==2.3.5) (7.2.3)\n",
      "Requirement already satisfied: pyarrow>=12.0.0 in /Users/linkedin/anaconda3/envs/Milvus/lib/python3.11/site-packages (from pymilvus==2.3.5) (14.0.2)\n",
      "Requirement already satisfied: marshmallow>=3.0.0 in /Users/linkedin/anaconda3/envs/Milvus/lib/python3.11/site-packages (from environs<=9.5.0->pymilvus==2.3.5) (3.20.1)\n",
      "Requirement already satisfied: python-dotenv in /Users/linkedin/anaconda3/envs/Milvus/lib/python3.11/site-packages (from environs<=9.5.0->pymilvus==2.3.5) (1.0.0)\n",
      "Requirement already satisfied: certifi in /Users/linkedin/anaconda3/envs/Milvus/lib/python3.11/site-packages (from minio>=7.0.0->pymilvus==2.3.5) (2023.11.17)\n",
      "Requirement already satisfied: urllib3 in /Users/linkedin/anaconda3/envs/Milvus/lib/python3.11/site-packages (from minio>=7.0.0->pymilvus==2.3.5) (1.26.18)\n",
      "Requirement already satisfied: argon2-cffi in /Users/linkedin/anaconda3/envs/Milvus/lib/python3.11/site-packages (from minio>=7.0.0->pymilvus==2.3.5) (21.3.0)\n",
      "Requirement already satisfied: pycryptodome in /Users/linkedin/anaconda3/envs/Milvus/lib/python3.11/site-packages (from minio>=7.0.0->pymilvus==2.3.5) (3.19.1)\n",
      "Requirement already satisfied: typing-extensions in /Users/linkedin/anaconda3/envs/Milvus/lib/python3.11/site-packages (from minio>=7.0.0->pymilvus==2.3.5) (4.7.1)\n",
      "Requirement already satisfied: numpy<2,>=1.23.2 in /Users/linkedin/anaconda3/envs/Milvus/lib/python3.11/site-packages (from pandas>=1.2.4->pymilvus==2.3.5) (1.26.3)\n",
      "Requirement already satisfied: python-dateutil>=2.8.2 in /Users/linkedin/anaconda3/envs/Milvus/lib/python3.11/site-packages (from pandas>=1.2.4->pymilvus==2.3.5) (2.8.2)\n",
      "Requirement already satisfied: pytz>=2020.1 in /Users/linkedin/anaconda3/envs/Milvus/lib/python3.11/site-packages (from pandas>=1.2.4->pymilvus==2.3.5) (2023.3.post1)\n",
      "Requirement already satisfied: tzdata>=2022.1 in /Users/linkedin/anaconda3/envs/Milvus/lib/python3.11/site-packages (from pandas>=1.2.4->pymilvus==2.3.5) (2023.4)\n",
      "Requirement already satisfied: charset-normalizer<4,>=2 in /Users/linkedin/anaconda3/envs/Milvus/lib/python3.11/site-packages (from requests->pymilvus==2.3.5) (2.0.4)\n",
      "Requirement already satisfied: idna<4,>=2.5 in /Users/linkedin/anaconda3/envs/Milvus/lib/python3.11/site-packages (from requests->pymilvus==2.3.5) (3.4)\n",
      "Requirement already satisfied: packaging>=17.0 in /Users/linkedin/anaconda3/envs/Milvus/lib/python3.11/site-packages (from marshmallow>=3.0.0->environs<=9.5.0->pymilvus==2.3.5) (23.2)\n",
      "Requirement already satisfied: six>=1.5 in /Users/linkedin/anaconda3/envs/Milvus/lib/python3.11/site-packages (from python-dateutil>=2.8.2->pandas>=1.2.4->pymilvus==2.3.5) (1.16.0)\n",
      "Requirement already satisfied: argon2-cffi-bindings in /Users/linkedin/anaconda3/envs/Milvus/lib/python3.11/site-packages (from argon2-cffi->minio>=7.0.0->pymilvus==2.3.5) (21.2.0)\n",
      "Requirement already satisfied: cffi>=1.0.1 in /Users/linkedin/anaconda3/envs/Milvus/lib/python3.11/site-packages (from argon2-cffi-bindings->argon2-cffi->minio>=7.0.0->pymilvus==2.3.5) (1.16.0)\n",
      "Requirement already satisfied: pycparser in /Users/linkedin/anaconda3/envs/Milvus/lib/python3.11/site-packages (from cffi>=1.0.1->argon2-cffi-bindings->argon2-cffi->minio>=7.0.0->pymilvus==2.3.5) (2.21)\n",
      "Requirement already satisfied: openai==1.6.1 in /Users/linkedin/anaconda3/envs/Milvus/lib/python3.11/site-packages (1.6.1)\n",
      "Requirement already satisfied: anyio<5,>=3.5.0 in /Users/linkedin/anaconda3/envs/Milvus/lib/python3.11/site-packages (from openai==1.6.1) (3.5.0)\n",
      "Requirement already satisfied: distro<2,>=1.7.0 in /Users/linkedin/anaconda3/envs/Milvus/lib/python3.11/site-packages (from openai==1.6.1) (1.9.0)\n",
      "Requirement already satisfied: httpx<1,>=0.23.0 in /Users/linkedin/anaconda3/envs/Milvus/lib/python3.11/site-packages (from openai==1.6.1) (0.26.0)\n",
      "Requirement already satisfied: pydantic<3,>=1.9.0 in /Users/linkedin/anaconda3/envs/Milvus/lib/python3.11/site-packages (from openai==1.6.1) (2.5.3)\n",
      "Requirement already satisfied: sniffio in /Users/linkedin/anaconda3/envs/Milvus/lib/python3.11/site-packages (from openai==1.6.1) (1.2.0)\n",
      "Requirement already satisfied: tqdm>4 in /Users/linkedin/anaconda3/envs/Milvus/lib/python3.11/site-packages (from openai==1.6.1) (4.66.1)\n",
      "Requirement already satisfied: typing-extensions<5,>=4.7 in /Users/linkedin/anaconda3/envs/Milvus/lib/python3.11/site-packages (from openai==1.6.1) (4.7.1)\n",
      "Requirement already satisfied: idna>=2.8 in /Users/linkedin/anaconda3/envs/Milvus/lib/python3.11/site-packages (from anyio<5,>=3.5.0->openai==1.6.1) (3.4)\n",
      "Requirement already satisfied: certifi in /Users/linkedin/anaconda3/envs/Milvus/lib/python3.11/site-packages (from httpx<1,>=0.23.0->openai==1.6.1) (2023.11.17)\n",
      "Requirement already satisfied: httpcore==1.* in /Users/linkedin/anaconda3/envs/Milvus/lib/python3.11/site-packages (from httpx<1,>=0.23.0->openai==1.6.1) (1.0.2)\n",
      "Requirement already satisfied: h11<0.15,>=0.13 in /Users/linkedin/anaconda3/envs/Milvus/lib/python3.11/site-packages (from httpcore==1.*->httpx<1,>=0.23.0->openai==1.6.1) (0.14.0)\n",
      "Requirement already satisfied: annotated-types>=0.4.0 in /Users/linkedin/anaconda3/envs/Milvus/lib/python3.11/site-packages (from pydantic<3,>=1.9.0->openai==1.6.1) (0.6.0)\n",
      "Requirement already satisfied: pydantic-core==2.14.6 in /Users/linkedin/anaconda3/envs/Milvus/lib/python3.11/site-packages (from pydantic<3,>=1.9.0->openai==1.6.1) (2.14.6)\n",
      "Requirement already satisfied: langchain==0.0.354 in /Users/linkedin/anaconda3/envs/Milvus/lib/python3.11/site-packages (0.0.354)\n",
      "Requirement already satisfied: PyYAML>=5.3 in /Users/linkedin/anaconda3/envs/Milvus/lib/python3.11/site-packages (from langchain==0.0.354) (6.0.1)\n",
      "Requirement already satisfied: SQLAlchemy<3,>=1.4 in /Users/linkedin/anaconda3/envs/Milvus/lib/python3.11/site-packages (from langchain==0.0.354) (2.0.25)\n",
      "Requirement already satisfied: aiohttp<4.0.0,>=3.8.3 in /Users/linkedin/anaconda3/envs/Milvus/lib/python3.11/site-packages (from langchain==0.0.354) (3.9.1)\n",
      "Requirement already satisfied: dataclasses-json<0.7,>=0.5.7 in /Users/linkedin/anaconda3/envs/Milvus/lib/python3.11/site-packages (from langchain==0.0.354) (0.6.3)\n",
      "Requirement already satisfied: jsonpatch<2.0,>=1.33 in /Users/linkedin/anaconda3/envs/Milvus/lib/python3.11/site-packages (from langchain==0.0.354) (1.33)\n",
      "Requirement already satisfied: langchain-community<0.1,>=0.0.8 in /Users/linkedin/anaconda3/envs/Milvus/lib/python3.11/site-packages (from langchain==0.0.354) (0.0.8)\n",
      "Requirement already satisfied: langchain-core<0.2,>=0.1.5 in /Users/linkedin/anaconda3/envs/Milvus/lib/python3.11/site-packages (from langchain==0.0.354) (0.1.6)\n",
      "Requirement already satisfied: langsmith<0.1.0,>=0.0.77 in /Users/linkedin/anaconda3/envs/Milvus/lib/python3.11/site-packages (from langchain==0.0.354) (0.0.77)\n",
      "Requirement already satisfied: numpy<2,>=1 in /Users/linkedin/anaconda3/envs/Milvus/lib/python3.11/site-packages (from langchain==0.0.354) (1.26.3)\n",
      "Requirement already satisfied: pydantic<3,>=1 in /Users/linkedin/anaconda3/envs/Milvus/lib/python3.11/site-packages (from langchain==0.0.354) (2.5.3)\n",
      "Requirement already satisfied: requests<3,>=2 in /Users/linkedin/anaconda3/envs/Milvus/lib/python3.11/site-packages (from langchain==0.0.354) (2.31.0)\n",
      "Requirement already satisfied: tenacity<9.0.0,>=8.1.0 in /Users/linkedin/anaconda3/envs/Milvus/lib/python3.11/site-packages (from langchain==0.0.354) (8.2.3)\n",
      "Requirement already satisfied: attrs>=17.3.0 in /Users/linkedin/anaconda3/envs/Milvus/lib/python3.11/site-packages (from aiohttp<4.0.0,>=3.8.3->langchain==0.0.354) (23.1.0)\n",
      "Requirement already satisfied: multidict<7.0,>=4.5 in /Users/linkedin/anaconda3/envs/Milvus/lib/python3.11/site-packages (from aiohttp<4.0.0,>=3.8.3->langchain==0.0.354) (6.0.4)\n",
      "Requirement already satisfied: yarl<2.0,>=1.0 in /Users/linkedin/anaconda3/envs/Milvus/lib/python3.11/site-packages (from aiohttp<4.0.0,>=3.8.3->langchain==0.0.354) (1.9.4)\n",
      "Requirement already satisfied: frozenlist>=1.1.1 in /Users/linkedin/anaconda3/envs/Milvus/lib/python3.11/site-packages (from aiohttp<4.0.0,>=3.8.3->langchain==0.0.354) (1.4.1)\n",
      "Requirement already satisfied: aiosignal>=1.1.2 in /Users/linkedin/anaconda3/envs/Milvus/lib/python3.11/site-packages (from aiohttp<4.0.0,>=3.8.3->langchain==0.0.354) (1.3.1)\n",
      "Requirement already satisfied: marshmallow<4.0.0,>=3.18.0 in /Users/linkedin/anaconda3/envs/Milvus/lib/python3.11/site-packages (from dataclasses-json<0.7,>=0.5.7->langchain==0.0.354) (3.20.1)\n",
      "Requirement already satisfied: typing-inspect<1,>=0.4.0 in /Users/linkedin/anaconda3/envs/Milvus/lib/python3.11/site-packages (from dataclasses-json<0.7,>=0.5.7->langchain==0.0.354) (0.9.0)\n",
      "Requirement already satisfied: jsonpointer>=1.9 in /Users/linkedin/anaconda3/envs/Milvus/lib/python3.11/site-packages (from jsonpatch<2.0,>=1.33->langchain==0.0.354) (2.4)\n",
      "Requirement already satisfied: anyio<5,>=3 in /Users/linkedin/anaconda3/envs/Milvus/lib/python3.11/site-packages (from langchain-core<0.2,>=0.1.5->langchain==0.0.354) (3.5.0)\n",
      "Requirement already satisfied: packaging<24.0,>=23.2 in /Users/linkedin/anaconda3/envs/Milvus/lib/python3.11/site-packages (from langchain-core<0.2,>=0.1.5->langchain==0.0.354) (23.2)\n",
      "Requirement already satisfied: annotated-types>=0.4.0 in /Users/linkedin/anaconda3/envs/Milvus/lib/python3.11/site-packages (from pydantic<3,>=1->langchain==0.0.354) (0.6.0)\n",
      "Requirement already satisfied: pydantic-core==2.14.6 in /Users/linkedin/anaconda3/envs/Milvus/lib/python3.11/site-packages (from pydantic<3,>=1->langchain==0.0.354) (2.14.6)\n",
      "Requirement already satisfied: typing-extensions>=4.6.1 in /Users/linkedin/anaconda3/envs/Milvus/lib/python3.11/site-packages (from pydantic<3,>=1->langchain==0.0.354) (4.7.1)\n",
      "Requirement already satisfied: charset-normalizer<4,>=2 in /Users/linkedin/anaconda3/envs/Milvus/lib/python3.11/site-packages (from requests<3,>=2->langchain==0.0.354) (2.0.4)\n",
      "Requirement already satisfied: idna<4,>=2.5 in /Users/linkedin/anaconda3/envs/Milvus/lib/python3.11/site-packages (from requests<3,>=2->langchain==0.0.354) (3.4)\n",
      "Requirement already satisfied: urllib3<3,>=1.21.1 in /Users/linkedin/anaconda3/envs/Milvus/lib/python3.11/site-packages (from requests<3,>=2->langchain==0.0.354) (1.26.18)\n",
      "Requirement already satisfied: certifi>=2017.4.17 in /Users/linkedin/anaconda3/envs/Milvus/lib/python3.11/site-packages (from requests<3,>=2->langchain==0.0.354) (2023.11.17)\n",
      "Requirement already satisfied: sniffio>=1.1 in /Users/linkedin/anaconda3/envs/Milvus/lib/python3.11/site-packages (from anyio<5,>=3->langchain-core<0.2,>=0.1.5->langchain==0.0.354) (1.2.0)\n",
      "Requirement already satisfied: mypy-extensions>=0.3.0 in /Users/linkedin/anaconda3/envs/Milvus/lib/python3.11/site-packages (from typing-inspect<1,>=0.4.0->dataclasses-json<0.7,>=0.5.7->langchain==0.0.354) (1.0.0)\n",
      "Requirement already satisfied: tiktoken==0.5.2 in /Users/linkedin/anaconda3/envs/Milvus/lib/python3.11/site-packages (0.5.2)\n",
      "Requirement already satisfied: regex>=2022.1.18 in /Users/linkedin/anaconda3/envs/Milvus/lib/python3.11/site-packages (from tiktoken==0.5.2) (2023.12.25)\n",
      "Requirement already satisfied: requests>=2.26.0 in /Users/linkedin/anaconda3/envs/Milvus/lib/python3.11/site-packages (from tiktoken==0.5.2) (2.31.0)\n",
      "Requirement already satisfied: charset-normalizer<4,>=2 in /Users/linkedin/anaconda3/envs/Milvus/lib/python3.11/site-packages (from requests>=2.26.0->tiktoken==0.5.2) (2.0.4)\n",
      "Requirement already satisfied: idna<4,>=2.5 in /Users/linkedin/anaconda3/envs/Milvus/lib/python3.11/site-packages (from requests>=2.26.0->tiktoken==0.5.2) (3.4)\n",
      "Requirement already satisfied: urllib3<3,>=1.21.1 in /Users/linkedin/anaconda3/envs/Milvus/lib/python3.11/site-packages (from requests>=2.26.0->tiktoken==0.5.2) (1.26.18)\n",
      "Requirement already satisfied: certifi>=2017.4.17 in /Users/linkedin/anaconda3/envs/Milvus/lib/python3.11/site-packages (from requests>=2.26.0->tiktoken==0.5.2) (2023.11.17)\n",
      "Requirement already satisfied: transformers==4.36.2 in /Users/linkedin/anaconda3/envs/Milvus/lib/python3.11/site-packages (4.36.2)\n",
      "Requirement already satisfied: filelock in /Users/linkedin/anaconda3/envs/Milvus/lib/python3.11/site-packages (from transformers==4.36.2) (3.13.1)\n",
      "Requirement already satisfied: huggingface-hub<1.0,>=0.19.3 in /Users/linkedin/anaconda3/envs/Milvus/lib/python3.11/site-packages (from transformers==4.36.2) (0.20.1)\n",
      "Requirement already satisfied: numpy>=1.17 in /Users/linkedin/anaconda3/envs/Milvus/lib/python3.11/site-packages (from transformers==4.36.2) (1.26.3)\n",
      "Requirement already satisfied: packaging>=20.0 in /Users/linkedin/anaconda3/envs/Milvus/lib/python3.11/site-packages (from transformers==4.36.2) (23.2)\n",
      "Requirement already satisfied: pyyaml>=5.1 in /Users/linkedin/anaconda3/envs/Milvus/lib/python3.11/site-packages (from transformers==4.36.2) (6.0.1)\n",
      "Requirement already satisfied: regex!=2019.12.17 in /Users/linkedin/anaconda3/envs/Milvus/lib/python3.11/site-packages (from transformers==4.36.2) (2023.12.25)\n",
      "Requirement already satisfied: requests in /Users/linkedin/anaconda3/envs/Milvus/lib/python3.11/site-packages (from transformers==4.36.2) (2.31.0)\n",
      "Requirement already satisfied: tokenizers<0.19,>=0.14 in /Users/linkedin/anaconda3/envs/Milvus/lib/python3.11/site-packages (from transformers==4.36.2) (0.15.0)\n",
      "Requirement already satisfied: safetensors>=0.3.1 in /Users/linkedin/anaconda3/envs/Milvus/lib/python3.11/site-packages (from transformers==4.36.2) (0.4.1)\n",
      "Requirement already satisfied: tqdm>=4.27 in /Users/linkedin/anaconda3/envs/Milvus/lib/python3.11/site-packages (from transformers==4.36.2) (4.66.1)\n",
      "Requirement already satisfied: fsspec>=2023.5.0 in /Users/linkedin/anaconda3/envs/Milvus/lib/python3.11/site-packages (from huggingface-hub<1.0,>=0.19.3->transformers==4.36.2) (2023.12.2)\n",
      "Requirement already satisfied: typing-extensions>=3.7.4.3 in /Users/linkedin/anaconda3/envs/Milvus/lib/python3.11/site-packages (from huggingface-hub<1.0,>=0.19.3->transformers==4.36.2) (4.7.1)\n",
      "Requirement already satisfied: charset-normalizer<4,>=2 in /Users/linkedin/anaconda3/envs/Milvus/lib/python3.11/site-packages (from requests->transformers==4.36.2) (2.0.4)\n",
      "Requirement already satisfied: idna<4,>=2.5 in /Users/linkedin/anaconda3/envs/Milvus/lib/python3.11/site-packages (from requests->transformers==4.36.2) (3.4)\n",
      "Requirement already satisfied: urllib3<3,>=1.21.1 in /Users/linkedin/anaconda3/envs/Milvus/lib/python3.11/site-packages (from requests->transformers==4.36.2) (1.26.18)\n",
      "Requirement already satisfied: certifi>=2017.4.17 in /Users/linkedin/anaconda3/envs/Milvus/lib/python3.11/site-packages (from requests->transformers==4.36.2) (2023.11.17)\n",
      "Requirement already satisfied: pandas==2.1.4 in /Users/linkedin/anaconda3/envs/Milvus/lib/python3.11/site-packages (2.1.4)\n",
      "Requirement already satisfied: numpy<2,>=1.23.2 in /Users/linkedin/anaconda3/envs/Milvus/lib/python3.11/site-packages (from pandas==2.1.4) (1.26.3)\n",
      "Requirement already satisfied: python-dateutil>=2.8.2 in /Users/linkedin/anaconda3/envs/Milvus/lib/python3.11/site-packages (from pandas==2.1.4) (2.8.2)\n",
      "Requirement already satisfied: pytz>=2020.1 in /Users/linkedin/anaconda3/envs/Milvus/lib/python3.11/site-packages (from pandas==2.1.4) (2023.3.post1)\n",
      "Requirement already satisfied: tzdata>=2022.1 in /Users/linkedin/anaconda3/envs/Milvus/lib/python3.11/site-packages (from pandas==2.1.4) (2023.4)\n",
      "Requirement already satisfied: six>=1.5 in /Users/linkedin/anaconda3/envs/Milvus/lib/python3.11/site-packages (from python-dateutil>=2.8.2->pandas==2.1.4) (1.16.0)\n",
      "Requirement already satisfied: pdfminer==20191125 in /Users/linkedin/anaconda3/envs/Milvus/lib/python3.11/site-packages (20191125)\n",
      "Requirement already satisfied: pycryptodome in /Users/linkedin/anaconda3/envs/Milvus/lib/python3.11/site-packages (from pdfminer==20191125) (3.19.1)\n",
      "Requirement already satisfied: pdfminer.six==20221105 in /Users/linkedin/anaconda3/envs/Milvus/lib/python3.11/site-packages (20221105)\n",
      "Requirement already satisfied: charset-normalizer>=2.0.0 in /Users/linkedin/anaconda3/envs/Milvus/lib/python3.11/site-packages (from pdfminer.six==20221105) (2.0.4)\n",
      "Requirement already satisfied: cryptography>=36.0.0 in /Users/linkedin/anaconda3/envs/Milvus/lib/python3.11/site-packages (from pdfminer.six==20221105) (41.0.7)\n",
      "Requirement already satisfied: cffi>=1.12 in /Users/linkedin/anaconda3/envs/Milvus/lib/python3.11/site-packages (from cryptography>=36.0.0->pdfminer.six==20221105) (1.16.0)\n",
      "Requirement already satisfied: pycparser in /Users/linkedin/anaconda3/envs/Milvus/lib/python3.11/site-packages (from cffi>=1.12->cryptography>=36.0.0->pdfminer.six==20221105) (2.21)\n"
     ]
    }
   ],
   "source": [
    "!pip install pymilvus==2.3.5\n",
    "!pip install openai==1.6.1\n",
    "!pip install langchain==0.0.354\n",
    "!pip install tiktoken==0.5.2\n",
    "!pip install transformers==4.36.2\n",
    "!pip install pandas==2.1.4\n",
    "!pip install pdfminer==20191125\n",
    "!pip install pdfminer.six==20221105"
   ]
  },
  {
   "cell_type": "markdown",
   "id": "8d823e23",
   "metadata": {},
   "source": [
    "### 03.01. Connecting to Milvus"
   ]
  },
  {
   "cell_type": "code",
   "execution_count": 2,
   "id": "e3f59b16",
   "metadata": {},
   "outputs": [
    {
     "data": {
      "text/plain": [
       "[('default', None),\n",
       " ('learn', <pymilvus.client.grpc_handler.GrpcHandler at 0x147f3b610>)]"
      ]
     },
     "execution_count": 2,
     "metadata": {},
     "output_type": "execute_result"
    }
   ],
   "source": [
    "#Creating a connection\n",
    "\n",
    "#Import the pymilvus package\n",
    "from pymilvus import connections\n",
    "\n",
    "#Create list of connections\n",
    "connections.add_connection(\n",
    "    #Specify a name for the connection\n",
    "    learn={    \n",
    "        \"host\": \"localhost\",\n",
    "        \"port\": \"19530\",\n",
    "        \"username\" : \"\",\n",
    "        \"password\" : \"\"\n",
    "    })\n",
    "\n",
    "#Connect\n",
    "connection_id=\"learn\"\n",
    "connections.connect(connection_id)\n",
    "\n",
    "#List all connections\n",
    "connections.list_connections()"
   ]
  },
  {
   "cell_type": "markdown",
   "id": "d0bf0c39",
   "metadata": {},
   "source": [
    "### 03.02. Creating databases and users"
   ]
  },
  {
   "cell_type": "code",
   "execution_count": 3,
   "id": "80f02eff",
   "metadata": {
    "scrolled": true
   },
   "outputs": [
    {
     "name": "stdout",
     "output_type": "stream",
     "text": [
      "Current databases:  ['default']\n",
      "Creating database : course_db\n"
     ]
    }
   ],
   "source": [
    "#Database operations\n",
    "from pymilvus import db\n",
    "\n",
    "#Get current list of databases available to the connection\n",
    "current_dbs=db.list_database(using=connection_id)\n",
    "print(\"Current databases: \", current_dbs)\n",
    "\n",
    "db_name=\"course_db\"\n",
    "\n",
    "if ( db_name not in current_dbs):\n",
    "    print(\"Creating database :\", db_name)\n",
    "    wiki_db = db.create_database(db_name, using=connection_id) \n",
    "    \n",
    "#Switch to use the new database\n",
    "db.using_database(db_name, using=connection_id)\n"
   ]
  },
  {
   "cell_type": "code",
   "execution_count": 4,
   "id": "4a260b31",
   "metadata": {},
   "outputs": [
    {
     "name": "stdout",
     "output_type": "stream",
     "text": [
      "Current user list:  ['root']\n",
      " Role public exists?  True\n"
     ]
    }
   ],
   "source": [
    "#user management\n",
    "from pymilvus import Role,utility\n",
    "\n",
    "current_users=utility.list_usernames(using=connection_id)\n",
    "print(\"Current user list: \", current_users)\n",
    "\n",
    "new_user = \"course_public\"\n",
    "\n",
    "if new_user not in current_users:\n",
    "    utility.create_user(new_user, \"password\", using=connection_id)\n",
    "\n",
    "#Assign a role to the user\n",
    "public_role = Role(\"public\", using=connection_id)\n",
    "print(\" Role public exists? \", public_role.is_exist())\n",
    "\n",
    "#Add user to role\n",
    "public_role.add_user(new_user)\n"
   ]
  },
  {
   "cell_type": "markdown",
   "id": "3f4e0cc9",
   "metadata": {},
   "source": [
    "### 03.03. Creating collections"
   ]
  },
  {
   "cell_type": "code",
   "execution_count": 5,
   "id": "c99761ca",
   "metadata": {},
   "outputs": [
    {
     "name": "stdout",
     "output_type": "stream",
     "text": [
      "Current collections:  ['courses_list']\n",
      "\n",
      " {'auto_id': False, 'description': 'Courses List', 'fields': [{'name': 'course_id', 'description': '', 'type': <DataType.INT64: 5>, 'is_primary': True, 'auto_id': False}, {'name': 'title', 'description': '', 'type': <DataType.VARCHAR: 21>, 'params': {'max_length': 256}}, {'name': 'description', 'description': '', 'type': <DataType.VARCHAR: 21>, 'params': {'max_length': 2048}}, {'name': 'desc_embedding', 'description': '', 'type': <DataType.FLOAT_VECTOR: 101>, 'params': {'dim': 1536}}], 'enable_dynamic_field': True}\n"
     ]
    }
   ],
   "source": [
    "from pymilvus import CollectionSchema, FieldSchema, DataType, Collection\n",
    "import json\n",
    "\n",
    "#Define fields\n",
    "course_id = FieldSchema(\n",
    "    name=\"course_id\",\n",
    "    dtype=DataType.INT64,\n",
    "    is_primary=True,\n",
    "    max_length=32)\n",
    "\n",
    "title= FieldSchema(\n",
    "    name=\"title\",\n",
    "    dtype=DataType.VARCHAR,\n",
    "    max_length=256)\n",
    "\n",
    "description= FieldSchema(\n",
    "    name=\"description\",\n",
    "    dtype=DataType.VARCHAR,\n",
    "    max_length=2048)\n",
    "\n",
    "#Dim should match the embedding size \n",
    "desc_embedding = FieldSchema(\n",
    "    name=\"desc_embedding\",\n",
    "    dtype=DataType.FLOAT_VECTOR,\n",
    "    dim=1536\n",
    ")\n",
    "\n",
    "#Define schema\n",
    "wiki_schema=CollectionSchema(\n",
    "    fields=[course_id, title, description, desc_embedding],\n",
    "    description=\"Courses List\",\n",
    "    enable_dynamic_field=True\n",
    ")\n",
    "\n",
    "collection_name=\"courses_list\"\n",
    "\n",
    "#Creation collection\n",
    "wiki_collection=Collection(\n",
    "    name=collection_name,\n",
    "    schema=wiki_schema,\n",
    "    using=connection_id,\n",
    "    shard_num=2\n",
    ")\n",
    "\n",
    "from pymilvus import utility\n",
    "\n",
    "#List all collections\n",
    "print(\"Current collections: \",utility.list_collections(using=connection_id))\n",
    "\n",
    "#setup existing collection into another object\n",
    "r_collection=Collection(collection_name, using=connection_id)\n",
    "print(\"\\n\", r_collection.schema)\n"
   ]
  },
  {
   "cell_type": "markdown",
   "id": "9df06387",
   "metadata": {},
   "source": [
    "### 03.04. Inserting data into Milvus"
   ]
  },
  {
   "cell_type": "code",
   "execution_count": 6,
   "id": "4e9ce26c",
   "metadata": {},
   "outputs": [
    {
     "data": {
      "text/html": [
       "<div>\n",
       "<style scoped>\n",
       "    .dataframe tbody tr th:only-of-type {\n",
       "        vertical-align: middle;\n",
       "    }\n",
       "\n",
       "    .dataframe tbody tr th {\n",
       "        vertical-align: top;\n",
       "    }\n",
       "\n",
       "    .dataframe thead th {\n",
       "        text-align: right;\n",
       "    }\n",
       "</style>\n",
       "<table border=\"1\" class=\"dataframe\">\n",
       "  <thead>\n",
       "    <tr style=\"text-align: right;\">\n",
       "      <th></th>\n",
       "      <th>Course ID</th>\n",
       "      <th>Title</th>\n",
       "      <th>Description</th>\n",
       "    </tr>\n",
       "  </thead>\n",
       "  <tbody>\n",
       "    <tr>\n",
       "      <th>0</th>\n",
       "      <td>1001</td>\n",
       "      <td>Architecting Big Data applications</td>\n",
       "      <td>Learn how to architect both simple and complex...</td>\n",
       "    </tr>\n",
       "    <tr>\n",
       "      <th>1</th>\n",
       "      <td>1002</td>\n",
       "      <td>MLOps Essentials: Monitoring Model Drift and Bias</td>\n",
       "      <td>As more and more ML models are developed and d...</td>\n",
       "    </tr>\n",
       "    <tr>\n",
       "      <th>2</th>\n",
       "      <td>1003</td>\n",
       "      <td>Apache Kafka Essential Training: Getting Started</td>\n",
       "      <td>In this course, instructor   introduces Apache...</td>\n",
       "    </tr>\n",
       "    <tr>\n",
       "      <th>3</th>\n",
       "      <td>1004</td>\n",
       "      <td>Applied AI: Building NLP Apps with Hugging Fac...</td>\n",
       "      <td>Explore models designed for common NLP use cas...</td>\n",
       "    </tr>\n",
       "    <tr>\n",
       "      <th>4</th>\n",
       "      <td>1005</td>\n",
       "      <td>Deep Learning : Getting started</td>\n",
       "      <td>Deep learning as a technology has grown leaps ...</td>\n",
       "    </tr>\n",
       "  </tbody>\n",
       "</table>\n",
       "</div>"
      ],
      "text/plain": [
       "   Course ID                                              Title  \\\n",
       "0       1001                 Architecting Big Data applications   \n",
       "1       1002  MLOps Essentials: Monitoring Model Drift and Bias   \n",
       "2       1003   Apache Kafka Essential Training: Getting Started   \n",
       "3       1004  Applied AI: Building NLP Apps with Hugging Fac...   \n",
       "4       1005                    Deep Learning : Getting started   \n",
       "\n",
       "                                         Description  \n",
       "0  Learn how to architect both simple and complex...  \n",
       "1  As more and more ML models are developed and d...  \n",
       "2  In this course, instructor   introduces Apache...  \n",
       "3  Explore models designed for common NLP use cas...  \n",
       "4  Deep learning as a technology has grown leaps ...  "
      ]
     },
     "execution_count": 6,
     "metadata": {},
     "output_type": "execute_result"
    }
   ],
   "source": [
    "#read the input course CSV\n",
    "import pandas as pd\n",
    "course_descriptions = pd.read_csv(\"course-descriptions.csv\")\n",
    "course_descriptions.head()"
   ]
  },
  {
   "cell_type": "code",
   "execution_count": 7,
   "id": "4f268eca",
   "metadata": {},
   "outputs": [],
   "source": [
    "#Use langchain to create embeddings.\n",
    "from langchain.llms import OpenAI\n",
    "from langchain.embeddings import OpenAIEmbeddings\n",
    "import os\n",
    "\n",
    "#Setup open API key to use OpenAI's LLM\n",
    "#Use your own key for OpenAI.\n",
    "\n",
    "#If you use the free tier, you may hit rate limits with the number of requests\n",
    "\n",
    "openai_api_key=\"\"\n",
    "os.environ[\"OPENAI_API_KEY\"] = openai_api_key\n",
    "\n",
    "embeddings_model = OpenAIEmbeddings()"
   ]
  },
  {
   "cell_type": "code",
   "execution_count": 8,
   "id": "b0416ef1",
   "metadata": {},
   "outputs": [],
   "source": [
    "#Prepare data for insert\n",
    "\n",
    "i_course_id = course_descriptions[\"Course ID\"].tolist()\n",
    "i_title = course_descriptions[\"Title\"].tolist()\n",
    "i_description = course_descriptions[\"Description\"].tolist()\n",
    "\n",
    "i_desc_embedding=[embeddings_model.embed_query(i)\n",
    "                  for i in i_description]\n",
    "\n",
    "#Format for data input\n",
    "insert_data=[i_course_id, i_title, i_description, i_desc_embedding]"
   ]
  },
  {
   "cell_type": "code",
   "execution_count": 9,
   "id": "b737c6d1",
   "metadata": {},
   "outputs": [
    {
     "name": "stdout",
     "output_type": "stream",
     "text": [
      "Inserted data. Now flushing\n"
     ]
    }
   ],
   "source": [
    "#Initiate a collection object and insert data\n",
    "course_collection = Collection(collection_name,using=connection_id)\n",
    "\n",
    "#Insert\n",
    "mr=course_collection.insert(insert_data)\n",
    "\n",
    "#Flush the data after insert\n",
    "print(\"Inserted data. Now flushing\")\n",
    "course_collection.flush(timeout=180)"
   ]
  },
  {
   "cell_type": "markdown",
   "id": "a44a1a80",
   "metadata": {},
   "source": [
    "### 03.05. Build an index"
   ]
  },
  {
   "cell_type": "code",
   "execution_count": 10,
   "id": "a4f4ac50",
   "metadata": {},
   "outputs": [
    {
     "data": {
      "text/plain": [
       "{'total_rows': 5, 'indexed_rows': 5, 'pending_index_rows': 0}"
      ]
     },
     "execution_count": 10,
     "metadata": {},
     "output_type": "execute_result"
    }
   ],
   "source": [
    "#Build an index\n",
    "index_params = {\n",
    "    \"metric_type\":\"L2\",\n",
    "    \"index_type\":\"IVF_FLAT\",\n",
    "    \"params\" :{\"nlist\":1024}\n",
    "}\n",
    "\n",
    "course_collection.create_index(\n",
    "    field_name=\"desc_embedding\",\n",
    "    index_params=index_params\n",
    ")\n",
    "\n",
    "utility.index_building_progress(collection_name,using=connection_id)"
   ]
  },
  {
   "cell_type": "markdown",
   "id": "bf00b708",
   "metadata": {},
   "source": [
    "### 03.06. Querying scalar data"
   ]
  },
  {
   "cell_type": "code",
   "execution_count": 11,
   "id": "2eb33b6b",
   "metadata": {},
   "outputs": [
    {
     "name": "stdout",
     "output_type": "stream",
     "text": [
      "Course collection loaded..\n"
     ]
    }
   ],
   "source": [
    "#Load the Collection\n",
    "# NOTE: A collection should first be loaded into memory before\n",
    "#       queries can be executed against it\n",
    "\n",
    "course_collection.load()\n",
    "print(\"Course collection loaded..\")"
   ]
  },
  {
   "cell_type": "code",
   "execution_count": 12,
   "id": "f7e3f618",
   "metadata": {},
   "outputs": [
    {
     "name": "stdout",
     "output_type": "stream",
     "text": [
      "[{'title': 'Architecting Big Data applications', 'description': 'Learn how to architect both simple and complex batch processing applications, as you discover the basic principles of big data architectures such as horizontal scaling, distributed processing, technology selection and integration, and scheduling.', 'course_id': 1001}]\n",
      "\n",
      " Result object : <class 'dict'>\n"
     ]
    }
   ],
   "source": [
    "q_result= course_collection.query(\n",
    "    expr = \"course_id == 1001\",\n",
    "    output_fields = [\"title\",\"description\"]\n",
    ")\n",
    "print(q_result)\n",
    "print(\"\\n Result object :\", type(q_result[0]))"
   ]
  },
  {
   "cell_type": "code",
   "execution_count": 13,
   "id": "d19348f6",
   "metadata": {},
   "outputs": [
    {
     "name": "stdout",
     "output_type": "stream",
     "text": [
      "[{'title': 'MLOps Essentials: Monitoring Model Drift and Bias', 'description': 'As more and more ML models are developed and deployed, the need arises to ensure that the models are effective and safe and that they perform as desired. Model monitoring, a core function of MLOps, helps data scientists and MLOps engineers to meet this need. In this course, data analytics expert   discusses the types of monitoring needed for ML models. ', 'course_id': 1002}]\n"
     ]
    }
   ],
   "source": [
    "q_result2= course_collection.query(\n",
    "    expr = \"(title LIKE 'MLOps%') && (course_id > 1001) \",\n",
    "    output_fields = [\"title\",\"description\"]\n",
    ")\n",
    "print(q_result2)"
   ]
  },
  {
   "cell_type": "markdown",
   "id": "c17e83af",
   "metadata": {},
   "source": [
    "### 03.07. Searching Vector fields"
   ]
  },
  {
   "cell_type": "code",
   "execution_count": 14,
   "id": "cbcfeadc",
   "metadata": {},
   "outputs": [
    {
     "name": "stdout",
     "output_type": "stream",
     "text": [
      "Search result object: <class 'pymilvus.client.abstract.Hits'> \n",
      "\n",
      "1005 0.33 \t Deep Learning : Getting started\n",
      "1004 0.34 \t Applied AI: Building NLP Apps with Hugging Face Transformers\n",
      "1002 0.38 \t MLOps Essentials: Monitoring Model Drift and Bias\n",
      "1001 0.4 \t Architecting Big Data applications\n",
      "1003 0.5 \t Apache Kafka Essential Training: Getting Started\n"
     ]
    }
   ],
   "source": [
    "#Make sure that the collection is already loaded.\n",
    "\n",
    "search_params = {\n",
    "    \"metric_type\": \"L2\", \n",
    "    \"offset\": 0, \n",
    "    \"ignore_growing\": False, \n",
    "    \"params\": {\"nprobe\": 10}\n",
    "}\n",
    "\n",
    "#Embed the input search string\n",
    "search_string = \"machine learning\"\n",
    "search_embed=embeddings_model.embed_query(search_string)\n",
    "\n",
    "#Perform search\n",
    "s_results=course_collection.search(\n",
    "    data=[search_embed], #input query to search for\n",
    "    anns_field=\"desc_embedding\", #field to search with ANN\n",
    "    param=search_params,\n",
    "    limit=10, #Limit output\n",
    "    expr=None, #Use additional scalar conditions\n",
    "    output_fields=[\"title\"],\n",
    "    consistency_level=\"Strong\"\n",
    ")\n",
    "\n",
    "print(\"Search result object:\", type(s_results[0]),\"\\n\")\n",
    "#Print results in order of match\n",
    "for i in s_results[0]:\n",
    "    print(i.id, str(round(i.distance, 2)), \"\\t\",i.entity.get(\"title\"))"
   ]
  },
  {
   "cell_type": "code",
   "execution_count": 15,
   "id": "c6aa7775",
   "metadata": {},
   "outputs": [
    {
     "name": "stdout",
     "output_type": "stream",
     "text": [
      "1004 0.62 \t Applied AI: Building NLP Apps with Hugging Face Transformers\n",
      "1001 0.63 \t Architecting Big Data applications\n",
      "1003 0.64 \t Apache Kafka Essential Training: Getting Started\n",
      "1005 0.64 \t Deep Learning : Getting started\n",
      "1002 0.65 \t MLOps Essentials: Monitoring Model Drift and Bias\n"
     ]
    }
   ],
   "source": [
    "#Search an unrelated query\n",
    "\n",
    "#Embed the input search string\n",
    "search_string2 = \"best movies of the year\"\n",
    "search_embed2=embeddings_model.embed_query(search_string2)\n",
    "\n",
    "#Perform search\n",
    "s_results2=course_collection.search(\n",
    "    data=[search_embed2], #input query to search for\n",
    "    anns_field=\"desc_embedding\", #field to search with ANN\n",
    "    param=search_params,\n",
    "    limit=10, #Limit output\n",
    "    expr=None, #Use additional scalar conditions\n",
    "    output_fields=[\"title\"],\n",
    "    consistency_level=\"Strong\"\n",
    ")\n",
    "\n",
    "#Print results in order of match\n",
    "for i in s_results2[0]:\n",
    "    print(i.id, str(round(i.distance, 2)), \"\\t\",i.entity.get(\"title\"))"
   ]
  },
  {
   "cell_type": "markdown",
   "id": "89a77793",
   "metadata": {},
   "source": [
    "### 03.08. Deleting objects and entities"
   ]
  },
  {
   "cell_type": "code",
   "execution_count": 16,
   "id": "ac9e8178",
   "metadata": {},
   "outputs": [
    {
     "data": {
      "text/plain": [
       "(insert count: 0, delete count: 1, upsert count: 0, timestamp: 446800336012443649, success count: 0, err count: 0)"
      ]
     },
     "execution_count": 16,
     "metadata": {},
     "output_type": "execute_result"
    }
   ],
   "source": [
    "#Delete a single record\n",
    "course_collection.delete(\"course_id in [1002]\")"
   ]
  },
  {
   "cell_type": "code",
   "execution_count": 17,
   "id": "f39569d2",
   "metadata": {},
   "outputs": [],
   "source": [
    "#Drop a collection\n",
    "utility.drop_collection(collection_name,using=connection_id)"
   ]
  },
  {
   "cell_type": "code",
   "execution_count": 18,
   "id": "131174de",
   "metadata": {},
   "outputs": [],
   "source": [
    "#drop a database\n",
    "#Make sure to drop all collections in the database first\n",
    "\n",
    "db.drop_database(db_name, using=connection_id)"
   ]
  },
  {
   "cell_type": "code",
   "execution_count": null,
   "id": "e9e10d46",
   "metadata": {},
   "outputs": [],
   "source": []
  }
 ],
 "metadata": {
  "kernelspec": {
   "display_name": "Python 3 (ipykernel)",
   "language": "python",
   "name": "python3"
  },
  "language_info": {
   "codemirror_mode": {
    "name": "ipython",
    "version": 3
   },
   "file_extension": ".py",
   "mimetype": "text/x-python",
   "name": "python",
   "nbconvert_exporter": "python",
   "pygments_lexer": "ipython3",
   "version": "3.11.5"
  }
 },
 "nbformat": 4,
 "nbformat_minor": 5
}
