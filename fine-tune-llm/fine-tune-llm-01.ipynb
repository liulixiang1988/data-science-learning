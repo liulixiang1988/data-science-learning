{
 "cells": [
  {
   "metadata": {},
   "cell_type": "markdown",
   "source": "## Fine tune your LLM",
   "id": "aacc44e7ac67e3fe"
  },
  {
   "metadata": {
    "ExecuteTime": {
     "end_time": "2024-06-06T11:52:36.657318Z",
     "start_time": "2024-06-06T11:52:33.519038Z"
    }
   },
   "cell_type": "code",
   "source": "!pip install -q openai",
   "id": "a51804eb2085ec59",
   "outputs": [],
   "execution_count": 1
  },
  {
   "metadata": {},
   "cell_type": "markdown",
   "source": "### Create a fine-tuning job",
   "id": "d85d9724ae7816f7"
  },
  {
   "metadata": {},
   "cell_type": "code",
   "outputs": [],
   "execution_count": null,
   "source": [
    "from openai import OpenAI\n",
    "\n",
    "client = OpenAI()\n",
    "client.fine_tuning.create(\n",
    "    training_file=\"data/llm-training-data.jsonl\",\n",
    "    model=\"gpt-3.5-turbo\",\n",
    "    hyperparameters={\n",
    "        \"n_epochs\": 2\n",
    "    }\n",
    ")"
   ],
   "id": "9e40ec29c9b3a386"
  }
 ],
 "metadata": {
  "kernelspec": {
   "display_name": "Python 3",
   "language": "python",
   "name": "python3"
  },
  "language_info": {
   "codemirror_mode": {
    "name": "ipython",
    "version": 2
   },
   "file_extension": ".py",
   "mimetype": "text/x-python",
   "name": "python",
   "nbconvert_exporter": "python",
   "pygments_lexer": "ipython2",
   "version": "2.7.6"
  }
 },
 "nbformat": 4,
 "nbformat_minor": 5
}
